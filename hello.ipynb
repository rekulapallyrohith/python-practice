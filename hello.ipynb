{
 "cells": [
  {
   "cell_type": "code",
   "execution_count": 1,
   "id": "5e4a6a30",
   "metadata": {},
   "outputs": [],
   "source": [
    "even_set = {2,4,6,8}"
   ]
  },
  {
   "cell_type": "code",
   "execution_count": 2,
   "id": "01a22580",
   "metadata": {},
   "outputs": [],
   "source": [
    "prime_set = {1,2,3,5}"
   ]
  },
  {
   "cell_type": "code",
   "execution_count": 3,
   "id": "a7355c1b",
   "metadata": {},
   "outputs": [
    {
     "data": {
      "text/plain": [
       "{1, 3, 5}"
      ]
     },
     "execution_count": 3,
     "metadata": {},
     "output_type": "execute_result"
    }
   ],
   "source": [
    "prime_set - even_set"
   ]
  },
  {
   "cell_type": "code",
   "execution_count": 4,
   "id": "3d771d59",
   "metadata": {},
   "outputs": [
    {
     "data": {
      "text/plain": [
       "{4, 6, 8}"
      ]
     },
     "execution_count": 4,
     "metadata": {},
     "output_type": "execute_result"
    }
   ],
   "source": [
    "even_set - prime_set"
   ]
  },
  {
   "cell_type": "code",
   "execution_count": 5,
   "id": "e0835f9b",
   "metadata": {},
   "outputs": [
    {
     "data": {
      "text/plain": [
       "{1, 2, 3, 4, 5, 6, 8}"
      ]
     },
     "execution_count": 5,
     "metadata": {},
     "output_type": "execute_result"
    }
   ],
   "source": [
    "prime_set.union(even_set)"
   ]
  },
  {
   "cell_type": "code",
   "execution_count": 6,
   "id": "3c3e822d",
   "metadata": {},
   "outputs": [
    {
     "data": {
      "text/plain": [
       "range(0, 10)"
      ]
     },
     "execution_count": 6,
     "metadata": {},
     "output_type": "execute_result"
    }
   ],
   "source": [
    "range(10)"
   ]
  },
  {
   "cell_type": "code",
   "execution_count": 8,
   "id": "371a6db0",
   "metadata": {},
   "outputs": [
    {
     "data": {
      "text/plain": [
       "[0, 1, 2, 3, 4, 5, 6, 7, 8, 9]"
      ]
     },
     "execution_count": 8,
     "metadata": {},
     "output_type": "execute_result"
    }
   ],
   "source": [
    "list(range(10))"
   ]
  },
  {
   "cell_type": "code",
   "execution_count": 9,
   "id": "b594892d",
   "metadata": {},
   "outputs": [
    {
     "name": "stdout",
     "output_type": "stream",
     "text": [
      "[1, 2, 3, 4, 5, 6, 7, 8, 9]\n"
     ]
    }
   ],
   "source": [
    "print(list(range(1,10)))"
   ]
  },
  {
   "cell_type": "code",
   "execution_count": 11,
   "id": "c9f7f48d",
   "metadata": {},
   "outputs": [
    {
     "name": "stdout",
     "output_type": "stream",
     "text": [
      "[1, 3, 5, 7, 9]\n"
     ]
    }
   ],
   "source": [
    "print(list(range(1,10,2)))"
   ]
  },
  {
   "cell_type": "code",
   "execution_count": 22,
   "id": "cef90c20",
   "metadata": {},
   "outputs": [
    {
     "name": "stdout",
     "output_type": "stream",
     "text": [
      "not a prime number\n"
     ]
    }
   ],
   "source": [
    "number = 21\n",
    "is_prime = True\n",
    "for index in range(2, number):\n",
    "    if number % index == 0:\n",
    "        is_prime = False\n",
    "        break\n",
    "if is_prime:\n",
    "    print(\"prime number\")\n",
    "else:\n",
    "    print(\"not a prime number\")"
   ]
  },
  {
   "cell_type": "code",
   "execution_count": 23,
   "id": "c2e739ed",
   "metadata": {},
   "outputs": [
    {
     "name": "stdout",
     "output_type": "stream",
     "text": [
      "p\n",
      "y\n",
      "t\n",
      "h\n",
      "o\n",
      "n\n"
     ]
    }
   ],
   "source": [
    "for char in \"python\":\n",
    "    print(char)\n"
   ]
  },
  {
   "cell_type": "code",
   "execution_count": 27,
   "id": "5508dac4",
   "metadata": {},
   "outputs": [
    {
     "name": "stdout",
     "output_type": "stream",
     "text": [
      "120\n"
     ]
    }
   ],
   "source": [
    "num = 5\n",
    "factorial = 1\n",
    "for index in range(1, num+1):\n",
    "    factorial *= index\n",
    "print(factorial)"
   ]
  },
  {
   "cell_type": "code",
   "execution_count": null,
   "id": "e9adf0c2",
   "metadata": {},
   "outputs": [],
   "source": [
    "num = 10\n",
    "factorial = 1\n",
    "for index in range(1, num+1):\n",
    "    factorial *= index\n",
    "for index in range(num, factorial, num):\n",
    "    is_divisible_by_all = True\n",
    "    for counter in range(1, num+1):\n",
    "        if index % counter != 0:\n",
    "            is_divisible_by_all = False\n",
    "            break\n",
    "if is_divisible_by_all:\n",
    "    print(index)"
   ]
  },
  {
   "cell_type": "code",
   "execution_count": 32,
   "id": "3720c8b5",
   "metadata": {},
   "outputs": [
    {
     "data": {
      "text/plain": [
       "3628790"
      ]
     },
     "execution_count": 32,
     "metadata": {},
     "output_type": "execute_result"
    }
   ],
   "source": [
    "index"
   ]
  }
 ],
 "metadata": {
  "kernelspec": {
   "display_name": "Python 3",
   "language": "python",
   "name": "python3"
  },
  "language_info": {
   "codemirror_mode": {
    "name": "ipython",
    "version": 3
   },
   "file_extension": ".py",
   "mimetype": "text/x-python",
   "name": "python",
   "nbconvert_exporter": "python",
   "pygments_lexer": "ipython3",
   "version": "3.11.9"
  }
 },
 "nbformat": 4,
 "nbformat_minor": 5
}
